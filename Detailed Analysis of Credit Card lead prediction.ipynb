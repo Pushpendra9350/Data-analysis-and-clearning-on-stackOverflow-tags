{
 "cells": [
  {
   "cell_type": "markdown",
   "metadata": {
    "id": "CsWLPAnlr379"
   },
   "source": [
    "# DATA ANAlYSIS: Credit Card Lead Prediction"
   ]
  },
  {
   "cell_type": "markdown",
   "metadata": {
    "id": "iGwqPTZtuCd6"
   },
   "source": [
    "##Problem Statement\n",
    "Happy Customer Bank is a mid-sized private bank that deals in all kinds of banking products, like Savings accounts, Current accounts, investment products, credit products, among other offerings.\n",
    "\n",
    "\n",
    "\n",
    "The bank also cross-sells products to its existing customers and to do so they use different kinds of communication like tele-calling, e-mails, recommendations on net banking, mobile banking, etc. \n",
    "\n",
    "\n",
    "\n",
    "In this case, the Happy Customer Bank wants to cross sell its credit cards to its existing customers. The bank has identified a set of customers that are eligible for taking these credit cards.\n",
    "\n",
    "\n",
    "\n",
    "Now, the bank is looking for your help in identifying customers that could show higher intent towards a recommended credit card, given:\n",
    "\n",
    "* Customer details (gender, age, region etc.)\n",
    "* Details of his/her relationship with the bank (Channel_Code,Vintage, 'Avg_Asset_Value etc.)"
   ]
  },
  {
   "cell_type": "markdown",
   "metadata": {
    "id": "ubQDXTkNuLE6"
   },
   "source": [
    "## About Dataset\n",
    "\n",
    "Here we have 245725 rows and 11 columns in train.csv file and in test.csv file we have 10000 row and 10 columns except \"Is_Lead\" which we need to predict.\n",
    "\n",
    "* **ID:**=> Unique Identifier for a row\n",
    "* **Gender:**=> Gender of the Customer\n",
    "* **Age:**=> Age of the Customer (in Years)\n",
    "* **Region_Code:**=> Code of the Region for the customers\n",
    "* **Occupation:**=> Occupation Type for the customer\n",
    "* **Channel_Code:**=> Acquisition Channel Code for the Customer  (Encoded)\n",
    "* **Vintage:**=> Vintage for the Customer (In Months)\n",
    "* **Credit_Product:**=> If the Customer has any active credit product (Home loan, Personal loan, Credit Card etc.)\n",
    "* **Avg_Account_Balance:**=> Average Account Balance for the Customer in last 12 Months\n",
    "* **Is_Active:**=> If the Customer is Active in last 3 Months\n",
    "* **Is_Lead(Target):**=> If the Customer is interested for the Credit Card\n",
    "    * 0 : Customer is not interested\n",
    "    * 1 : Customer is interested "
   ]
  },
  {
   "cell_type": "markdown",
   "metadata": {
    "id": "M4TVDkhRziy5"
   },
   "source": [
    "### 1. Importing important libraries"
   ]
  },
  {
   "cell_type": "code",
   "execution_count": 2,
   "metadata": {
    "id": "mmpbr2cprvYl"
   },
   "outputs": [],
   "source": [
    "# Import some important libraries which will help use to work on the problem\n",
    "import warnings\n",
    "warnings.filterwarnings('ignore')\n",
    "import numpy as np\n",
    "import pandas as pd\n",
    "import matplotlib.pyplot as plt\n",
    "import seaborn as sb\n",
    "from sklearn.feature_selection import SelectKBest\n",
    "from sklearn.feature_selection import chi2"
   ]
  },
  {
   "cell_type": "markdown",
   "metadata": {
    "id": "8qHfSRPKzqBQ"
   },
   "source": [
    "### 2. Loading Data"
   ]
  },
  {
   "cell_type": "code",
   "execution_count": 4,
   "metadata": {
    "id": "wL1KA3dezJ9b"
   },
   "outputs": [],
   "source": [
    "# Simply to read the data from csv file.\n",
    "data = pd.read_csv(\"train.csv\")"
   ]
  },
  {
   "cell_type": "markdown",
   "metadata": {
    "id": "yXTB4gKu0ErY"
   },
   "source": [
    "### 3. Basic Analysis"
   ]
  },
  {
   "cell_type": "code",
   "execution_count": 167,
   "metadata": {
    "colab": {
     "base_uri": "https://localhost:8080/",
     "height": 224
    },
    "id": "2fL2o47SzXrF",
    "outputId": "caf168ff-f73d-4bcb-9507-403424d3f8c4"
   },
   "outputs": [
    {
     "data": {
      "text/html": [
       "<div>\n",
       "<style scoped>\n",
       "    .dataframe tbody tr th:only-of-type {\n",
       "        vertical-align: middle;\n",
       "    }\n",
       "\n",
       "    .dataframe tbody tr th {\n",
       "        vertical-align: top;\n",
       "    }\n",
       "\n",
       "    .dataframe thead th {\n",
       "        text-align: right;\n",
       "    }\n",
       "</style>\n",
       "<table border=\"1\" class=\"dataframe\">\n",
       "  <thead>\n",
       "    <tr style=\"text-align: right;\">\n",
       "      <th></th>\n",
       "      <th>ID</th>\n",
       "      <th>Gender</th>\n",
       "      <th>Age</th>\n",
       "      <th>Region_Code</th>\n",
       "      <th>Occupation</th>\n",
       "      <th>Channel_Code</th>\n",
       "      <th>Vintage</th>\n",
       "      <th>Credit_Product</th>\n",
       "      <th>Avg_Account_Balance</th>\n",
       "      <th>Is_Active</th>\n",
       "      <th>Is_Lead</th>\n",
       "    </tr>\n",
       "  </thead>\n",
       "  <tbody>\n",
       "    <tr>\n",
       "      <th>0</th>\n",
       "      <td>NNVBBKZB</td>\n",
       "      <td>Female</td>\n",
       "      <td>73</td>\n",
       "      <td>RG268</td>\n",
       "      <td>Other</td>\n",
       "      <td>X3</td>\n",
       "      <td>43</td>\n",
       "      <td>No</td>\n",
       "      <td>1045696</td>\n",
       "      <td>No</td>\n",
       "      <td>0</td>\n",
       "    </tr>\n",
       "    <tr>\n",
       "      <th>1</th>\n",
       "      <td>IDD62UNG</td>\n",
       "      <td>Female</td>\n",
       "      <td>30</td>\n",
       "      <td>RG277</td>\n",
       "      <td>Salaried</td>\n",
       "      <td>X1</td>\n",
       "      <td>32</td>\n",
       "      <td>No</td>\n",
       "      <td>581988</td>\n",
       "      <td>No</td>\n",
       "      <td>0</td>\n",
       "    </tr>\n",
       "    <tr>\n",
       "      <th>2</th>\n",
       "      <td>HD3DSEMC</td>\n",
       "      <td>Female</td>\n",
       "      <td>56</td>\n",
       "      <td>RG268</td>\n",
       "      <td>Self_Employed</td>\n",
       "      <td>X3</td>\n",
       "      <td>26</td>\n",
       "      <td>No</td>\n",
       "      <td>1484315</td>\n",
       "      <td>Yes</td>\n",
       "      <td>0</td>\n",
       "    </tr>\n",
       "    <tr>\n",
       "      <th>3</th>\n",
       "      <td>BF3NC7KV</td>\n",
       "      <td>Male</td>\n",
       "      <td>34</td>\n",
       "      <td>RG270</td>\n",
       "      <td>Salaried</td>\n",
       "      <td>X1</td>\n",
       "      <td>19</td>\n",
       "      <td>No</td>\n",
       "      <td>470454</td>\n",
       "      <td>No</td>\n",
       "      <td>0</td>\n",
       "    </tr>\n",
       "    <tr>\n",
       "      <th>4</th>\n",
       "      <td>TEASRWXV</td>\n",
       "      <td>Female</td>\n",
       "      <td>30</td>\n",
       "      <td>RG282</td>\n",
       "      <td>Salaried</td>\n",
       "      <td>X1</td>\n",
       "      <td>33</td>\n",
       "      <td>No</td>\n",
       "      <td>886787</td>\n",
       "      <td>No</td>\n",
       "      <td>0</td>\n",
       "    </tr>\n",
       "  </tbody>\n",
       "</table>\n",
       "</div>"
      ],
      "text/plain": [
       "         ID  Gender  Age  ... Avg_Account_Balance Is_Active Is_Lead\n",
       "0  NNVBBKZB  Female   73  ...             1045696        No       0\n",
       "1  IDD62UNG  Female   30  ...              581988        No       0\n",
       "2  HD3DSEMC  Female   56  ...             1484315       Yes       0\n",
       "3  BF3NC7KV    Male   34  ...              470454        No       0\n",
       "4  TEASRWXV  Female   30  ...              886787        No       0\n",
       "\n",
       "[5 rows x 11 columns]"
      ]
     },
     "execution_count": 167,
     "metadata": {
      "tags": []
     },
     "output_type": "execute_result"
    }
   ],
   "source": [
    "# To show first 5 rows of dataframe as a head rows\n",
    "data.head()"
   ]
  },
  {
   "cell_type": "code",
   "execution_count": 7,
   "metadata": {
    "colab": {
     "base_uri": "https://localhost:8080/"
    },
    "id": "xHXCDa3V0NSL",
    "outputId": "a3db2ce9-0a96-44fe-c78d-8a70577fa444"
   },
   "outputs": [
    {
     "name": "stdout",
     "output_type": "stream",
     "text": [
      "Shape of data is:  (245725, 11)\n",
      "Number of rows we have:  245725\n",
      "Number of columns we have:  11\n"
     ]
    }
   ],
   "source": [
    "# To check the shape of the dataframe we have\n",
    "print(\"Shape of data is: \",data.shape)\n",
    "print(\"Number of rows we have: \",data.shape[0])\n",
    "print(\"Number of columns we have: \",data.shape[1])"
   ]
  },
  {
   "cell_type": "markdown",
   "metadata": {
    "id": "VCzk7fRX0YVw"
   },
   "source": [
    "#### Check for duplicates\n",
    "If we have then drop them because they do not help us."
   ]
  },
  {
   "cell_type": "code",
   "execution_count": 168,
   "metadata": {
    "colab": {
     "base_uri": "https://localhost:8080/"
    },
    "id": "x_h5Xyqd0PSY",
    "outputId": "9c79d458-0901-4da3-9377-b1d2c286e7c0"
   },
   "outputs": [
    {
     "name": "stdout",
     "output_type": "stream",
     "text": [
      "Number of Duplicates we have in our data:  (21, 11)\n"
     ]
    },
    {
     "data": {
      "text/plain": [
       "(245704, 11)"
      ]
     },
     "execution_count": 168,
     "metadata": {
      "tags": []
     },
     "output_type": "execute_result"
    }
   ],
   "source": [
    "# Subset is the list on which you want to find duplicates.\n",
    "duplicate = data[data.duplicated(subset=['Gender','Age','Region_Code','Occupation', 'Channel_Code','Vintage','Credit_Product','Avg_Account_Balance','Is_Active','Is_Lead'],keep=\"first\")]\n",
    "print(\"Number of Duplicates we have in our data: \",duplicate.shape)\n",
    "# Lets drop duplicates\n",
    "data.drop_duplicates(subset=['Gender','Age','Region_Code','Occupation', 'Channel_Code','Vintage','Credit_Product','Avg_Account_Balance','Is_Active','Is_Lead'],keep=\"first\",inplace=True)\n",
    "# After droping duplicates new shape of our data is \n",
    "data.shape"
   ]
  },
  {
   "cell_type": "code",
   "execution_count": 9,
   "metadata": {
    "colab": {
     "base_uri": "https://localhost:8080/"
    },
    "id": "NcVkFaYY0X2D",
    "outputId": "48d271fd-592a-420a-ef17-f3ea023832c9"
   },
   "outputs": [
    {
     "name": "stdout",
     "output_type": "stream",
     "text": [
      "<class 'pandas.core.frame.DataFrame'>\n",
      "Int64Index: 245704 entries, 0 to 245724\n",
      "Data columns (total 11 columns):\n",
      " #   Column               Non-Null Count   Dtype \n",
      "---  ------               --------------   ----- \n",
      " 0   ID                   245704 non-null  object\n",
      " 1   Gender               245704 non-null  object\n",
      " 2   Age                  245704 non-null  int64 \n",
      " 3   Region_Code          245704 non-null  object\n",
      " 4   Occupation           245704 non-null  object\n",
      " 5   Channel_Code         245704 non-null  object\n",
      " 6   Vintage              245704 non-null  int64 \n",
      " 7   Credit_Product       216379 non-null  object\n",
      " 8   Avg_Account_Balance  245704 non-null  int64 \n",
      " 9   Is_Active            245704 non-null  object\n",
      " 10  Is_Lead              245704 non-null  int64 \n",
      "dtypes: int64(4), object(7)\n",
      "memory usage: 22.5+ MB\n"
     ]
    }
   ],
   "source": [
    "# To check some basic information like data type of each column and non null values in all columns and memory it takes\n",
    "data.info()"
   ]
  },
  {
   "cell_type": "markdown",
   "metadata": {
    "id": "XcH1STMV1FKE"
   },
   "source": [
    "**Observations**\n",
    "* We see clearly in the Credit_Product column we have some NULL/missing values.\n",
    "* Lets work on it first because these missing values may impact our analysis.\n",
    "\n",
    "As we observe Credit_Product is a categorical feature.\n",
    "### How to deal with missing values in categorical features\n",
    "We have various techniques to deal with the missing values some of them are given below.\n",
    "1. Drop the rows which have missing values.\n",
    "2. Drop the columns which contains missing values.\n",
    "3. Replace missing values with most frequest ones.\n",
    "4. Make a model to predict missing values.\n",
    "5. Use clustering to fill missing values.\n",
    "6. Make a new category for missing values."
   ]
  },
  {
   "cell_type": "markdown",
   "metadata": {
    "id": "YdBLaF7Vkz-0"
   },
   "source": [
    "### Exploratory Data Analysis\n",
    "#### Feature wise analysis"
   ]
  },
  {
   "cell_type": "code",
   "execution_count": 42,
   "metadata": {
    "colab": {
     "base_uri": "https://localhost:8080/",
     "height": 350
    },
    "id": "2ZSxxEP70-vo",
    "outputId": "bb45157d-cf9f-47e6-ccea-c21506462855"
   },
   "outputs": [
    {
     "data": {
      "image/png": "[encoded data removed]",
      "text/plain": [
       "<Figure size 576x360 with 1 Axes>"
      ]
     },
     "metadata": {
      "needs_background": "light",
      "tags": []
     },
     "output_type": "display_data"
    }
   ],
   "source": [
    "# Setting figure size\n",
    "plt.figure(figsize=(8,5))\n",
    "\n",
    "# Make a group of Gender based on the Is_Lead column\n",
    "x = data.groupby([\"Gender\"])[\"Is_Lead\"].value_counts()\n",
    "\n",
    "# Make a list to give x-axis name\n",
    "name = ['Female','Male']\n",
    "\n",
    "# Getting values from x which contain value count for each category \n",
    "notlead = [x[0],x[2]]\n",
    "islead = [x[1],x[3]]\n",
    "\n",
    "# get length of name array and set it to the x axis\n",
    "x_axis = np.arange(len(name))\n",
    "\n",
    "# Plot bars\n",
    "plt.bar(x_axis + 0.2, islead, 0.4, label = 'Is_lead')\n",
    "plt.bar(x_axis - 0.2, notlead, 0.4, label = 'Not_lead')\n",
    "\n",
    "# Setting name to x axis\n",
    "plt.xticks(x_axis, name)\n",
    "\n",
    "# Set x-axis label\n",
    "plt.xlabel(\"Gender\")\n",
    "\n",
    "# Set y-axis label\n",
    "plt.ylabel(\"Number of Customers\")\n",
    "\n",
    "# set title\n",
    "plt.title(\"Number of Customers in each gender\")\n",
    "\n",
    "# TO set legend on the plot for better understandings\n",
    "plt.legend()\n",
    "\n",
    "# Finally show the plot\n",
    "plt.show()"
   ]
  },
  {
   "cell_type": "markdown",
   "metadata": {
    "id": "y7WtAXdHEPNR"
   },
   "source": [
    "**Observations**\n",
    "* Male Cantidates are more intent to get credit card offer than females but this difference is low."
   ]
  },
  {
   "cell_type": "code",
   "execution_count": 48,
   "metadata": {
    "colab": {
     "base_uri": "https://localhost:8080/",
     "height": 350
    },
    "id": "v2Vr_NEe-w-X",
    "outputId": "ed5a08be-5f0b-441e-d734-706e217fed00"
   },
   "outputs": [
    {
     "data": {
      "image/png": "[encoded data removed]",
      "text/plain": [
       "<Figure size 1080x360 with 2 Axes>"
      ]
     },
     "metadata": {
      "tags": []
     },
     "output_type": "display_data"
    }
   ],
   "source": [
    "plt.figure(figsize=(15,5))\n",
    "# Here we are selection age based on the age\n",
    "yes = data[data[\"Is_Lead\"]==1][\"Age\"]\n",
    "no = data[data[\"Is_Lead\"]==0][\"Age\"]\n",
    "plt.subplot(121)\n",
    "sb.distplot(no, kde = False, color ='red', bins = 30)\n",
    "plt.title(\"Customer with this age not acceting offer\")\n",
    "plt.ylabel(\"Number of customers\")\n",
    "plt.subplot(122)\n",
    "sb.distplot(yes, kde = False, color ='green', bins = 30)\n",
    "plt.title(\"Customer with this age acceting offer\")\n",
    "plt.ylabel(\"Number of customers\")\n",
    "plt.show()"
   ]
  },
  {
   "cell_type": "markdown",
   "metadata": {
    "id": "jFCjvBoWI2k4"
   },
   "source": [
    "**Observations**\n",
    "* As we can see People more number of people between age 23 and 35 are not accepting offers.\n",
    "* On the other side people age between 35 and 65 are accepting more offers than others.\n",
    "* But if we observe number of offers accepts and regected in the age between 35 and 65 are approx same so this feature may not give any useful results. we can drop it."
   ]
  },
  {
   "cell_type": "code",
   "execution_count": 71,
   "metadata": {
    "colab": {
     "base_uri": "https://localhost:8080/",
     "height": 394
    },
    "id": "s0_WxEDUB-2d",
    "outputId": "285fe3c4-2348-454d-c201-186e25df76d8"
   },
   "outputs": [
    {
     "data": {
      "image/png": "[encoded data removed]",
      "text/plain": [
       "<Figure size 1584x360 with 1 Axes>"
      ]
     },
     "metadata": {
      "tags": []
     },
     "output_type": "display_data"
    }
   ],
   "source": [
    "plt.figure(figsize=(22,5))\n",
    "x = data.groupby([\"Region_Code\"])[\"Is_Lead\"].value_counts()\n",
    "region_codes = np.unique(data[\"Region_Code\"])\n",
    "yes=[]\n",
    "no=[]\n",
    "for i in range(0,len(x),2):\n",
    "    yes.append(x[i+1])\n",
    "    no.append(x[i])\n",
    "x_axis = np.arange(len(region_codes)) \n",
    "plt.bar(x_axis + 0.2, yes, 0.4, label = 'Is_lead')\n",
    "plt.bar(x_axis - 0.2, no, 0.4, label = 'Not_lead')\n",
    "plt.xticks(x_axis, region_codes)\n",
    "plt.xticks(rotation=60)\n",
    "plt.xlabel(\"Region Codes\")\n",
    "plt.ylabel(\"Number of Customers\")\n",
    "plt.title(\"Number of Customers in each Region\")\n",
    "plt.legend()\n",
    "plt.show()"
   ]
  },
  {
   "cell_type": "markdown",
   "metadata": {
    "id": "DyYO3E-hNf4A"
   },
   "source": [
    "**Observations**\n",
    "* As we can clearly se that we have more Leads/offer acceptance with only 4 regions [\"RG254\",\"RG268\",\"RG277\",\"RG283\",\"RG284\"].\n",
    "* so we can conside only these features and we can drop all of them.\n"
   ]
  },
  {
   "cell_type": "code",
   "execution_count": 26,
   "metadata": {
    "colab": {
     "base_uri": "https://localhost:8080/",
     "height": 351
    },
    "id": "5M-mdgkNGbli",
    "outputId": "82c67908-7e2c-4c26-abc5-18b7608538a8"
   },
   "outputs": [
    {
     "data": {
      "image/png": "[encoded data removed]",
      "text/plain": [
       "<Figure size 576x360 with 1 Axes>"
      ]
     },
     "metadata": {
      "needs_background": "light",
      "tags": []
     },
     "output_type": "display_data"
    }
   ],
   "source": [
    "plt.figure(figsize=(8,5))\n",
    "x = data.groupby([\"Occupation\"])[\"Is_Lead\"].value_counts()\n",
    "name = ['Entrepreneur','Other','Salaried','Self_Employed']\n",
    "notlead = [x[0],x[2],x[4],x[6]]\n",
    "islead = [x[1],x[3],x[5],x[7]]\n",
    "x_axis = np.arange(len(name))\n",
    "plt.bar(x_axis + 0.2, islead, 0.4, label = 'Is_lead')\n",
    "plt.bar(x_axis - 0.2, notlead, 0.4, label = 'Not_lead')\n",
    "plt.xticks(x_axis, name)\n",
    "plt.xlabel(\"Occupation\")\n",
    "plt.ylabel(\"Number of Customers\")\n",
    "plt.title(\"Number of Customers in each Occupation\")\n",
    "plt.legend()\n",
    "plt.show()"
   ]
  },
  {
   "cell_type": "markdown",
   "metadata": {
    "id": "XOnUV4alQHYw"
   },
   "source": [
    "**Observations**\n",
    "* We can clearly see people with occupation are actually less and tendency is 50% to accept any offer"
   ]
  },
  {
   "cell_type": "code",
   "execution_count": 20,
   "metadata": {
    "colab": {
     "base_uri": "https://localhost:8080/",
     "height": 350
    },
    "id": "CTYWUinnGcVL",
    "outputId": "ab28c067-419a-4a49-daa2-193babd3b89b"
   },
   "outputs": [
    {
     "data": {
      "image/png": "[encoded data removed]",
      "text/plain": [
       "<Figure size 576x360 with 1 Axes>"
      ]
     },
     "metadata": {
      "needs_background": "light",
      "tags": []
     },
     "output_type": "display_data"
    }
   ],
   "source": [
    "plt.figure(figsize=(8,5))\n",
    "x = data.groupby([\"Channel_Code\"])[\"Is_Lead\"].value_counts()\n",
    "name = ['X1','X2','X3','X4']\n",
    "notlead = [x[0],x[2],x[4],x[6]]\n",
    "islead = [x[1],x[3],x[5],x[7]]\n",
    "x_axis = np.arange(len(name)) \n",
    "plt.bar(x_axis + 0.2, islead, 0.4, label = 'Is_lead')\n",
    "plt.bar(x_axis - 0.2, notlead, 0.4, label = 'Not_lead')\n",
    "plt.xticks(x_axis, name)\n",
    "plt.xlabel(\"Channel Codes\")\n",
    "plt.ylabel(\"Number of Customers\")\n",
    "plt.title(\"Number of Customers in each Channel Code\")\n",
    "plt.legend()\n",
    "plt.show()"
   ]
  },
  {
   "cell_type": "markdown",
   "metadata": {
    "id": "fgNrL-U5qmXq"
   },
   "source": [
    "**Observations**\n",
    "* Mostly acceptance are from channel code X2 and X3. and here ratio is also very good in comparison to others.\n",
    "* In this case we can drop x1 and x4 in our model so did not effect much"
   ]
  },
  {
   "cell_type": "code",
   "execution_count": 22,
   "metadata": {
    "colab": {
     "base_uri": "https://localhost:8080/",
     "height": 350
    },
    "id": "jYAIhl0mLi77",
    "outputId": "0fafe9b5-2e60-4f1d-ebe2-ee44250cc396"
   },
   "outputs": [
    {
     "data": {
      "image/png": "[encoded data removed]",
      "text/plain": [
       "<Figure size 576x360 with 1 Axes>"
      ]
     },
     "metadata": {
      "needs_background": "light",
      "tags": []
     },
     "output_type": "display_data"
    }
   ],
   "source": [
    "plt.figure(figsize=(8,5))\n",
    "x = data.groupby([\"Is_Active\"])[\"Is_Lead\"].value_counts()\n",
    "name = ['Is Active','Not Active']\n",
    "notlead = [x[0],x[2]]\n",
    "islead = [x[1],x[3]]\n",
    "x_axis = np.arange(len(name)) \n",
    "plt.bar(x_axis + 0.2, islead, 0.4, label = 'Is_lead')\n",
    "plt.bar(x_axis - 0.2, notlead, 0.4, label = 'Not_lead')\n",
    "plt.xticks(x_axis, name)\n",
    "plt.xlabel(\"Activity\")\n",
    "plt.ylabel(\"Number of Customers\")\n",
    "plt.title(\"Number of Customers in Active or not\")\n",
    "plt.legend()\n",
    "plt.show()"
   ]
  },
  {
   "cell_type": "markdown",
   "metadata": {
    "id": "qlsxdBD_rHn7"
   },
   "source": [
    "**Observations**\n",
    "* Number of counts of acceptance are approx equal on both cases but rejections are more were account is active. "
   ]
  },
  {
   "cell_type": "code",
   "execution_count": 27,
   "metadata": {
    "colab": {
     "base_uri": "https://localhost:8080/",
     "height": 350
    },
    "id": "Oekn6GO8L09V",
    "outputId": "57a79ffe-f868-4b01-d4e9-c3ff923c3606"
   },
   "outputs": [
    {
     "data": {
      "image/png": "[encoded data removed]",
      "text/plain": [
       "<Figure size 576x360 with 1 Axes>"
      ]
     },
     "metadata": {
      "needs_background": "light",
      "tags": []
     },
     "output_type": "display_data"
    }
   ],
   "source": [
    "plt.figure(figsize=(8,5))\n",
    "x = data.groupby([\"Credit_Product\"])[\"Is_Lead\"].value_counts()\n",
    "name = ['Have','Not Have']\n",
    "notlead = [x[0],x[2]]\n",
    "islead = [x[1],x[3]]\n",
    "x_axis = np.arange(len(name)) \n",
    "plt.bar(x_axis + 0.2, islead, 0.4, label = 'Is_lead')\n",
    "plt.bar(x_axis - 0.2, notlead, 0.4, label = 'Not_lead')\n",
    "plt.xticks(x_axis, name)\n",
    "plt.xlabel(\"Credit Product\")\n",
    "plt.ylabel(\"Number of Customers\")\n",
    "plt.title(\"Number of Customers have or not have\")\n",
    "plt.legend()\n",
    "plt.show()"
   ]
  },
  {
   "cell_type": "markdown",
   "metadata": {
    "id": "Y5NjCx2p192f"
   },
   "source": [
    "**Observation**\n",
    "* Due to dissimilarity in dataset and also lead and not lead this feature will works well to identify Is_Lead or not."
   ]
  },
  {
   "cell_type": "code",
   "execution_count": 37,
   "metadata": {
    "colab": {
     "base_uri": "https://localhost:8080/",
     "height": 350
    },
    "id": "SefKLrTwr_ps",
    "outputId": "4b8bcca2-80b8-4d34-b65b-33a407e70c36"
   },
   "outputs": [
    {
     "data": {
      "image/png": "[encoded data removed]",
      "text/plain": [
       "<Figure size 576x360 with 1 Axes>"
      ]
     },
     "metadata": {
      "needs_background": "light",
      "tags": []
     },
     "output_type": "display_data"
    }
   ],
   "source": [
    "plt.figure(figsize=(8,5))\n",
    "yes = data[data[\"Is_Lead\"]==1][\"Vintage\"]\n",
    "no = data[data[\"Is_Lead\"]==0][\"Vintage\"]\n",
    "sb.distplot(no, kde = False, color ='red', bins = 30)\n",
    "# plt.title(\"Customer with this age not acceting offer\")\n",
    "# plt.ylabel(\"Number of customers\")\n",
    "# plt.subplot(122)\n",
    "sb.distplot(yes, kde = False, color ='green', bins = 30)\n",
    "plt.title(\"Customer with this age acceting offer\")\n",
    "plt.ylabel(\"Number of customers\")\n",
    "plt.show()"
   ]
  },
  {
   "cell_type": "code",
   "execution_count": 106,
   "metadata": {
    "colab": {
     "base_uri": "https://localhost:8080/",
     "height": 351
    },
    "id": "_zNQiFPeAuqv",
    "outputId": "4a3ccfcc-e1ed-4f9a-d708-3c70d89f7228"
   },
   "outputs": [
    {
     "data": {
      "image/png": "[encoded data removed]",
      "text/plain": [
       "<Figure size 576x360 with 1 Axes>"
      ]
     },
     "metadata": {
      "tags": []
     },
     "output_type": "display_data"
    }
   ],
   "source": [
    "plt.figure(figsize=(8,5))\n",
    "yes = data[data[\"Is_Lead\"]==1][\"Avg_Account_Balance\"]\n",
    "no = data[data[\"Is_Lead\"]==0][\"Avg_Account_Balance\"]\n",
    "sb.distplot(no, kde = False, color ='red', bins = 30)\n",
    "# plt.title(\"Customer with this age not acceting offer\")\n",
    "# plt.ylabel(\"Number of customers\")\n",
    "# plt.subplot(122)\n",
    "sb.distplot(yes, kde = False, color ='green', bins = 30)\n",
    "plt.title(\"Customer with this amount of balance acceting offer\")\n",
    "plt.ylabel(\"Number of customers\")\n",
    "plt.show()"
   ]
  },
  {
   "cell_type": "markdown",
   "metadata": {
    "id": "BV-4P9eztkGt"
   },
   "source": [
    "**Observations**\n",
    "* Low vintage people are more intent to reject the offers.\n",
    "* This feature is important because it has not any similarity in is lead and not lead rows.\n",
    "\n",
    "### Complete Understanding \n",
    "With this analysis what we have done till now we can say.\n",
    "* Some important features are\n",
    "    * Vintage\n",
    "    * X2 and X3 Channel codes\n",
    "    * Credit Product\n",
    "    * Occupation all types \n",
    "    * 4 region code that we mentioned earlier.\n",
    "    * And Avg_Account_Balance\n",
    "\n",
    "To get more understanding lets apply some feature selection algorithm, here we are going to use Chi Square which tells us more important features.\n",
    "\n",
    "#### But before apply that we have encode our data because it works only on numerical data. and also take care or null values in credit product.\n",
    "\n"
   ]
  },
  {
   "cell_type": "markdown",
   "metadata": {
    "id": "Xidvt0IA3ets"
   },
   "source": [
    "### Encoding"
   ]
  },
  {
   "cell_type": "code",
   "execution_count": 169,
   "metadata": {
    "id": "nZGxpznC3ckO"
   },
   "outputs": [],
   "source": [
    "# This is like onehot encoding \n",
    "# Apply one hot encoding based on the occupation \n",
    "data = pd.concat([data,pd.get_dummies(data.Occupation)],axis=1)\n",
    "# Then we have to drop the occupation column from the main data\n",
    "data.drop([\"Occupation\"],axis=1,inplace=True)\n",
    "\n",
    "# Apply one hot encoding based on the region code \n",
    "data = pd.concat([data,pd.get_dummies(data.Region_Code)],axis=1)\n",
    "data.drop([\"Region_Code\"],axis=1,inplace=True)\n",
    "\n",
    "data = pd.concat([data,pd.get_dummies(data.Channel_Code)],axis=1)\n",
    "data.drop([\"Channel_Code\"],axis=1,inplace=True)\n",
    "\n",
    "\n",
    "# To encode Is_Active in 0 and 1 with map function \n",
    "data[\"Is_Active\"] = data[\"Is_Active\"].map({\"No\":0,\"Yes\":1})\n",
    "\n",
    "# To encode Gender in numerical data \n",
    "data[\"Gender\"] = data[\"Gender\"].map({\"Female\":0,\"Male\":1})\n",
    "\n",
    "data = pd.concat([data,pd.get_dummies(data.Credit_Product,prefix='Credit_Product')],axis=1)\n",
    "data.drop(\"Credit_Product\",inplace=True,axis=1)"
   ]
  },
  {
   "cell_type": "code",
   "execution_count": 170,
   "metadata": {
    "colab": {
     "base_uri": "https://localhost:8080/",
     "height": 224
    },
    "id": "QDkYBS-O3ciV",
    "outputId": "51c389c8-5788-4920-f885-c9f4fe6d8e4f"
   },
   "outputs": [
    {
     "data": {
      "text/html": [
       "<div>\n",
       "<style scoped>\n",
       "    .dataframe tbody tr th:only-of-type {\n",
       "        vertical-align: middle;\n",
       "    }\n",
       "\n",
       "    .dataframe tbody tr th {\n",
       "        vertical-align: top;\n",
       "    }\n",
       "\n",
       "    .dataframe thead th {\n",
       "        text-align: right;\n",
       "    }\n",
       "</style>\n",
       "<table border=\"1\" class=\"dataframe\">\n",
       "  <thead>\n",
       "    <tr style=\"text-align: right;\">\n",
       "      <th></th>\n",
       "      <th>ID</th>\n",
       "      <th>Gender</th>\n",
       "      <th>Age</th>\n",
       "      <th>Vintage</th>\n",
       "      <th>Avg_Account_Balance</th>\n",
       "      <th>Is_Active</th>\n",
       "      <th>Is_Lead</th>\n",
       "      <th>Entrepreneur</th>\n",
       "      <th>Other</th>\n",
       "      <th>Salaried</th>\n",
       "      <th>Self_Employed</th>\n",
       "      <th>RG250</th>\n",
       "      <th>RG251</th>\n",
       "      <th>RG252</th>\n",
       "      <th>RG253</th>\n",
       "      <th>RG254</th>\n",
       "      <th>RG255</th>\n",
       "      <th>RG256</th>\n",
       "      <th>RG257</th>\n",
       "      <th>RG258</th>\n",
       "      <th>RG259</th>\n",
       "      <th>RG260</th>\n",
       "      <th>RG261</th>\n",
       "      <th>RG262</th>\n",
       "      <th>RG263</th>\n",
       "      <th>RG264</th>\n",
       "      <th>RG265</th>\n",
       "      <th>RG266</th>\n",
       "      <th>RG267</th>\n",
       "      <th>RG268</th>\n",
       "      <th>RG269</th>\n",
       "      <th>RG270</th>\n",
       "      <th>RG271</th>\n",
       "      <th>RG272</th>\n",
       "      <th>RG273</th>\n",
       "      <th>RG274</th>\n",
       "      <th>RG275</th>\n",
       "      <th>RG276</th>\n",
       "      <th>RG277</th>\n",
       "      <th>RG278</th>\n",
       "      <th>RG279</th>\n",
       "      <th>RG280</th>\n",
       "      <th>RG281</th>\n",
       "      <th>RG282</th>\n",
       "      <th>RG283</th>\n",
       "      <th>RG284</th>\n",
       "      <th>X1</th>\n",
       "      <th>X2</th>\n",
       "      <th>X3</th>\n",
       "      <th>X4</th>\n",
       "      <th>Credit_Product_No</th>\n",
       "      <th>Credit_Product_Yes</th>\n",
       "    </tr>\n",
       "  </thead>\n",
       "  <tbody>\n",
       "    <tr>\n",
       "      <th>0</th>\n",
       "      <td>NNVBBKZB</td>\n",
       "      <td>0</td>\n",
       "      <td>73</td>\n",
       "      <td>43</td>\n",
       "      <td>1045696</td>\n",
       "      <td>0</td>\n",
       "      <td>0</td>\n",
       "      <td>0</td>\n",
       "      <td>1</td>\n",
       "      <td>0</td>\n",
       "      <td>0</td>\n",
       "      <td>0</td>\n",
       "      <td>0</td>\n",
       "      <td>0</td>\n",
       "      <td>0</td>\n",
       "      <td>0</td>\n",
       "      <td>0</td>\n",
       "      <td>0</td>\n",
       "      <td>0</td>\n",
       "      <td>0</td>\n",
       "      <td>0</td>\n",
       "      <td>0</td>\n",
       "      <td>0</td>\n",
       "      <td>0</td>\n",
       "      <td>0</td>\n",
       "      <td>0</td>\n",
       "      <td>0</td>\n",
       "      <td>0</td>\n",
       "      <td>0</td>\n",
       "      <td>1</td>\n",
       "      <td>0</td>\n",
       "      <td>0</td>\n",
       "      <td>0</td>\n",
       "      <td>0</td>\n",
       "      <td>0</td>\n",
       "      <td>0</td>\n",
       "      <td>0</td>\n",
       "      <td>0</td>\n",
       "      <td>0</td>\n",
       "      <td>0</td>\n",
       "      <td>0</td>\n",
       "      <td>0</td>\n",
       "      <td>0</td>\n",
       "      <td>0</td>\n",
       "      <td>0</td>\n",
       "      <td>0</td>\n",
       "      <td>0</td>\n",
       "      <td>0</td>\n",
       "      <td>1</td>\n",
       "      <td>0</td>\n",
       "      <td>1</td>\n",
       "      <td>0</td>\n",
       "    </tr>\n",
       "    <tr>\n",
       "      <th>1</th>\n",
       "      <td>IDD62UNG</td>\n",
       "      <td>0</td>\n",
       "      <td>30</td>\n",
       "      <td>32</td>\n",
       "      <td>581988</td>\n",
       "      <td>0</td>\n",
       "      <td>0</td>\n",
       "      <td>0</td>\n",
       "      <td>0</td>\n",
       "      <td>1</td>\n",
       "      <td>0</td>\n",
       "      <td>0</td>\n",
       "      <td>0</td>\n",
       "      <td>0</td>\n",
       "      <td>0</td>\n",
       "      <td>0</td>\n",
       "      <td>0</td>\n",
       "      <td>0</td>\n",
       "      <td>0</td>\n",
       "      <td>0</td>\n",
       "      <td>0</td>\n",
       "      <td>0</td>\n",
       "      <td>0</td>\n",
       "      <td>0</td>\n",
       "      <td>0</td>\n",
       "      <td>0</td>\n",
       "      <td>0</td>\n",
       "      <td>0</td>\n",
       "      <td>0</td>\n",
       "      <td>0</td>\n",
       "      <td>0</td>\n",
       "      <td>0</td>\n",
       "      <td>0</td>\n",
       "      <td>0</td>\n",
       "      <td>0</td>\n",
       "      <td>0</td>\n",
       "      <td>0</td>\n",
       "      <td>0</td>\n",
       "      <td>1</td>\n",
       "      <td>0</td>\n",
       "      <td>0</td>\n",
       "      <td>0</td>\n",
       "      <td>0</td>\n",
       "      <td>0</td>\n",
       "      <td>0</td>\n",
       "      <td>0</td>\n",
       "      <td>1</td>\n",
       "      <td>0</td>\n",
       "      <td>0</td>\n",
       "      <td>0</td>\n",
       "      <td>1</td>\n",
       "      <td>0</td>\n",
       "    </tr>\n",
       "    <tr>\n",
       "      <th>2</th>\n",
       "      <td>HD3DSEMC</td>\n",
       "      <td>0</td>\n",
       "      <td>56</td>\n",
       "      <td>26</td>\n",
       "      <td>1484315</td>\n",
       "      <td>1</td>\n",
       "      <td>0</td>\n",
       "      <td>0</td>\n",
       "      <td>0</td>\n",
       "      <td>0</td>\n",
       "      <td>1</td>\n",
       "      <td>0</td>\n",
       "      <td>0</td>\n",
       "      <td>0</td>\n",
       "      <td>0</td>\n",
       "      <td>0</td>\n",
       "      <td>0</td>\n",
       "      <td>0</td>\n",
       "      <td>0</td>\n",
       "      <td>0</td>\n",
       "      <td>0</td>\n",
       "      <td>0</td>\n",
       "      <td>0</td>\n",
       "      <td>0</td>\n",
       "      <td>0</td>\n",
       "      <td>0</td>\n",
       "      <td>0</td>\n",
       "      <td>0</td>\n",
       "      <td>0</td>\n",
       "      <td>1</td>\n",
       "      <td>0</td>\n",
       "      <td>0</td>\n",
       "      <td>0</td>\n",
       "      <td>0</td>\n",
       "      <td>0</td>\n",
       "      <td>0</td>\n",
       "      <td>0</td>\n",
       "      <td>0</td>\n",
       "      <td>0</td>\n",
       "      <td>0</td>\n",
       "      <td>0</td>\n",
       "      <td>0</td>\n",
       "      <td>0</td>\n",
       "      <td>0</td>\n",
       "      <td>0</td>\n",
       "      <td>0</td>\n",
       "      <td>0</td>\n",
       "      <td>0</td>\n",
       "      <td>1</td>\n",
       "      <td>0</td>\n",
       "      <td>1</td>\n",
       "      <td>0</td>\n",
       "    </tr>\n",
       "    <tr>\n",
       "      <th>3</th>\n",
       "      <td>BF3NC7KV</td>\n",
       "      <td>1</td>\n",
       "      <td>34</td>\n",
       "      <td>19</td>\n",
       "      <td>470454</td>\n",
       "      <td>0</td>\n",
       "      <td>0</td>\n",
       "      <td>0</td>\n",
       "      <td>0</td>\n",
       "      <td>1</td>\n",
       "      <td>0</td>\n",
       "      <td>0</td>\n",
       "      <td>0</td>\n",
       "      <td>0</td>\n",
       "      <td>0</td>\n",
       "      <td>0</td>\n",
       "      <td>0</td>\n",
       "      <td>0</td>\n",
       "      <td>0</td>\n",
       "      <td>0</td>\n",
       "      <td>0</td>\n",
       "      <td>0</td>\n",
       "      <td>0</td>\n",
       "      <td>0</td>\n",
       "      <td>0</td>\n",
       "      <td>0</td>\n",
       "      <td>0</td>\n",
       "      <td>0</td>\n",
       "      <td>0</td>\n",
       "      <td>0</td>\n",
       "      <td>0</td>\n",
       "      <td>1</td>\n",
       "      <td>0</td>\n",
       "      <td>0</td>\n",
       "      <td>0</td>\n",
       "      <td>0</td>\n",
       "      <td>0</td>\n",
       "      <td>0</td>\n",
       "      <td>0</td>\n",
       "      <td>0</td>\n",
       "      <td>0</td>\n",
       "      <td>0</td>\n",
       "      <td>0</td>\n",
       "      <td>0</td>\n",
       "      <td>0</td>\n",
       "      <td>0</td>\n",
       "      <td>1</td>\n",
       "      <td>0</td>\n",
       "      <td>0</td>\n",
       "      <td>0</td>\n",
       "      <td>1</td>\n",
       "      <td>0</td>\n",
       "    </tr>\n",
       "    <tr>\n",
       "      <th>4</th>\n",
       "      <td>TEASRWXV</td>\n",
       "      <td>0</td>\n",
       "      <td>30</td>\n",
       "      <td>33</td>\n",
       "      <td>886787</td>\n",
       "      <td>0</td>\n",
       "      <td>0</td>\n",
       "      <td>0</td>\n",
       "      <td>0</td>\n",
       "      <td>1</td>\n",
       "      <td>0</td>\n",
       "      <td>0</td>\n",
       "      <td>0</td>\n",
       "      <td>0</td>\n",
       "      <td>0</td>\n",
       "      <td>0</td>\n",
       "      <td>0</td>\n",
       "      <td>0</td>\n",
       "      <td>0</td>\n",
       "      <td>0</td>\n",
       "      <td>0</td>\n",
       "      <td>0</td>\n",
       "      <td>0</td>\n",
       "      <td>0</td>\n",
       "      <td>0</td>\n",
       "      <td>0</td>\n",
       "      <td>0</td>\n",
       "      <td>0</td>\n",
       "      <td>0</td>\n",
       "      <td>0</td>\n",
       "      <td>0</td>\n",
       "      <td>0</td>\n",
       "      <td>0</td>\n",
       "      <td>0</td>\n",
       "      <td>0</td>\n",
       "      <td>0</td>\n",
       "      <td>0</td>\n",
       "      <td>0</td>\n",
       "      <td>0</td>\n",
       "      <td>0</td>\n",
       "      <td>0</td>\n",
       "      <td>0</td>\n",
       "      <td>0</td>\n",
       "      <td>1</td>\n",
       "      <td>0</td>\n",
       "      <td>0</td>\n",
       "      <td>1</td>\n",
       "      <td>0</td>\n",
       "      <td>0</td>\n",
       "      <td>0</td>\n",
       "      <td>1</td>\n",
       "      <td>0</td>\n",
       "    </tr>\n",
       "  </tbody>\n",
       "</table>\n",
       "</div>"
      ],
      "text/plain": [
       "         ID  Gender  Age  ...  X4  Credit_Product_No  Credit_Product_Yes\n",
       "0  NNVBBKZB       0   73  ...   0                  1                   0\n",
       "1  IDD62UNG       0   30  ...   0                  1                   0\n",
       "2  HD3DSEMC       0   56  ...   0                  1                   0\n",
       "3  BF3NC7KV       1   34  ...   0                  1                   0\n",
       "4  TEASRWXV       0   30  ...   0                  1                   0\n",
       "\n",
       "[5 rows x 52 columns]"
      ]
     },
     "execution_count": 170,
     "metadata": {
      "tags": []
     },
     "output_type": "execute_result"
    }
   ],
   "source": [
    "# Let set how data look like after applying encoding\n",
    "data.head()"
   ]
  },
  {
   "cell_type": "code",
   "execution_count": 171,
   "metadata": {
    "colab": {
     "base_uri": "https://localhost:8080/"
    },
    "id": "AAuiQ2pz3cfp",
    "outputId": "61139535-f288-4332-cba7-1d4f1dec0967"
   },
   "outputs": [
    {
     "data": {
      "text/plain": [
       "(245704, 52)"
      ]
     },
     "execution_count": 171,
     "metadata": {
      "tags": []
     },
     "output_type": "execute_result"
    }
   ],
   "source": [
    "# Now shape of the data is \n",
    "data.shape"
   ]
  },
  {
   "cell_type": "markdown",
   "metadata": {},
   "source": [
    "### Feature selection"
   ]
  },
  {
   "cell_type": "code",
   "execution_count": 172,
   "metadata": {
    "colab": {
     "base_uri": "https://localhost:8080/"
    },
    "id": "a5b4YTb03ccx",
    "outputId": "5ded7131-109c-4127-a001-9bb90ad165b1"
   },
   "outputs": [
    {
     "name": "stdout",
     "output_type": "stream",
     "text": [
      "                  Specs         Score\n",
      "3   Avg_Account_Balance  4.512177e+08\n",
      "2               Vintage  4.282205e+05\n",
      "1                   Age  6.561412e+04\n",
      "48    Credit_Product_No  2.135820e+04\n",
      "44                   X1  1.218153e+04\n",
      "46                   X3  6.398139e+03\n",
      "45                   X2  3.077549e+03\n",
      "5          Entrepreneur  2.642671e+03\n",
      "49   Credit_Product_Yes  2.406220e+03\n",
      "7              Salaried  2.390967e+03\n",
      "4             Is_Active  1.104020e+03\n",
      "8         Self_Employed  8.370213e+02\n",
      "27                RG268  7.780417e+02\n",
      "42                RG283  6.829880e+02\n",
      "0                Gender  5.792316e+02\n",
      "43                RG284  4.348780e+02\n",
      "29                RG270  3.678375e+02\n",
      "11                RG252  2.326359e+02\n",
      "20                RG261  2.021173e+02\n",
      "23                RG264  1.544528e+02\n"
     ]
    }
   ],
   "source": [
    "# To get most important feature we apply Chi square test on it.\n",
    "y = data[\"Is_Lead\"]\n",
    "data.drop([\"ID\",\"Is_Lead\"],axis=1,inplace=True)\n",
    "#apply SelectKBest class to extract top 10 best features\n",
    "bestfeatures = SelectKBest(score_func=chi2, k=10)\n",
    "fit = bestfeatures.fit(data,y)\n",
    "dfscores = pd.DataFrame(fit.scores_)\n",
    "dfcolumns = pd.DataFrame(data.columns)\n",
    "#concat two dataframes for better visualization \n",
    "featureScores = pd.concat([dfcolumns,dfscores],axis=1)\n",
    "featureScores.columns = ['Specs','Score']\n",
    "print(featureScores.nlargest(20,'Score'))"
   ]
  },
  {
   "cell_type": "markdown",
   "metadata": {},
   "source": [
    "**Observations**\n",
    "* These are most important top 20 features"
   ]
  },
  {
   "cell_type": "markdown",
   "metadata": {},
   "source": [
    "# Thank You"
   ]
  }
 ],
 "metadata": {
  "colab": {
   "collapsed_sections": [],
   "name": "Detailed Analysis(for data and models).ipynb",
   "provenance": []
  },
  "kernelspec": {
   "display_name": "Python 3",
   "language": "python",
   "name": "python3"
  },
  "language_info": {
   "codemirror_mode": {
    "name": "ipython",
    "version": 3
   },
   "file_extension": ".py",
   "mimetype": "text/x-python",
   "name": "python",
   "nbconvert_exporter": "python",
   "pygments_lexer": "ipython3",
   "version": "3.8.5"
  }
 },
 "nbformat": 4,
 "nbformat_minor": 1
}
